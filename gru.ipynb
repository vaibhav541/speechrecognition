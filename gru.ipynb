{
 "cells": [
  {
   "cell_type": "code",
   "execution_count": 1,
   "metadata": {},
   "outputs": [
    {
     "name": "stderr",
     "output_type": "stream",
     "text": [
      "/home/nandwani_vaibhav/anaconda3/envs/fastai/lib/python3.6/site-packages/h5py/__init__.py:36: FutureWarning: Conversion of the second argument of issubdtype from `float` to `np.floating` is deprecated. In future, it will be treated as `np.float64 == np.dtype(float).type`.\n",
      "  from ._conv import register_converters as _register_converters\n",
      "Using TensorFlow backend.\n",
      "/home/nandwani_vaibhav/anaconda3/envs/fastai/lib/python3.6/site-packages/sklearn/cross_validation.py:41: DeprecationWarning: This module was deprecated in version 0.18 in favor of the model_selection module into which all the refactored classes and functions are moved. Also note that the interface of the new CV iterators are different from that of this module. This module will be removed in 0.20.\n",
      "  \"This module will be removed in 0.20.\", DeprecationWarning)\n"
     ]
    }
   ],
   "source": [
    "import numpy as np\n",
    "import random\n",
    "import sys\n",
    "import io\n",
    "import os\n",
    "import glob\n",
    "import IPython\n",
    "from scipy.io import wavfile\n",
    "import matplotlib.pyplot as plt\n",
    "import pandas as pd\n",
    "from keras.layers import Dense, Input , Conv2D, ZeroPadding2D , Activation,Flatten\n",
    "from sklearn.cross_validation import train_test_split\n",
    "from keras.models import Model\n",
    "import keras\n",
    "from keras import backend as K\n",
    "from keras.callbacks import ModelCheckpoint\n",
    "from keras.models import Model, load_model, Sequential\n",
    "from keras.layers import Dense, Activation, Dropout, Input, Masking, TimeDistributed, LSTM, Conv1D\n",
    "from keras.layers import GRU, Bidirectional, BatchNormalization, Reshape\n",
    "from keras.optimizers import Adam\n",
    "%matplotlib inline\n"
   ]
  },
  {
   "cell_type": "code",
   "execution_count": 3,
   "metadata": {},
   "outputs": [
    {
     "data": {
      "text/html": [
       "\n",
       "                <audio controls=\"controls\" >\n",
       "                    <source src=\"data:audio/x-wav;base64,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\" type=\"audio/x-wav\" />\n",
       "                    Your browser does not support the audio element.\n",
       "                </audio>\n",
       "              "
      ],
      "text/plain": [
       "<IPython.lib.display.Audio object>"
      ]
     },
     "execution_count": 3,
     "metadata": {},
     "output_type": "execute_result"
    }
   ],
   "source": [
    "IPython.display.Audio(\"train/audio/yes/004ae714_nohash_0.wav\")"
   ]
  },
  {
   "cell_type": "code",
   "execution_count": 2,
   "metadata": {},
   "outputs": [],
   "source": [
    "X_SIZE = 16000\n",
    "IMG_SIZE = 128\n",
    "def spectrogram(filepath):\n",
    "\tframerate, wav_data = wavfile.read(filepath)\n",
    "\n",
    "\twindow_length = 512\n",
    "\twindow_shift = 121\n",
    "\n",
    "\tif len(wav_data) > X_SIZE:\n",
    "\t\twav_data = wav_data[:X_SIZE]\n",
    "\n",
    "\tX = np.zeros(X_SIZE).astype('float32')\n",
    "\tX[:len(wav_data)] += wav_data\n",
    "\tspec = np.zeros((IMG_SIZE, IMG_SIZE)).astype('float32')\n",
    "\n",
    "\tfor i in range(IMG_SIZE):\n",
    "\t\tstart = i * window_shift\n",
    "\t\tend = start + window_length\n",
    "\t\tsig = np.abs(np.fft.rfft(X[start:end] * np.hanning(window_length)))\n",
    "\t\tspec[:,i] = (sig[1:IMG_SIZE + 1])[::-1]\n",
    "\n",
    "\tspec = (spec-spec.min())/(spec.max()-spec.min())\n",
    "\tspec = np.log10((spec * 100 + 0.01))\n",
    "\tspec = (spec-spec.min())/(spec.max()-spec.min()) - 0.5\n",
    "\n",
    "\treturn spec"
   ]
  },
  {
   "cell_type": "code",
   "execution_count": 10,
   "metadata": {},
   "outputs": [
    {
     "data": {
      "text/plain": [
       "(128, 128)"
      ]
     },
     "execution_count": 10,
     "metadata": {},
     "output_type": "execute_result"
    }
   ],
   "source": [
    "x =  spectrogram(\"train/audio/yes/004ae714_nohash_0.wav\")\n",
    "x.shape"
   ]
  },
  {
   "cell_type": "code",
   "execution_count": null,
   "metadata": {},
   "outputs": [],
   "source": [
    "x=[]\n",
    "y=[]\n",
    "classes={}\n",
    "folder=glob.glob(\"train/audio/*\")\n",
    "for n,file in enumerate(folder):\n",
    "    \n",
    "     for fname in glob.glob(file+\"/*\"):\n",
    "        print(fname)\n",
    "        x.append(spectrogram(fname))\n",
    "        y.append(n)"
   ]
  },
  {
   "cell_type": "code",
   "execution_count": null,
   "metadata": {},
   "outputs": [],
   "source": [
    "x=np.array(x)\n",
    "y=np.array(y)\n",
    "\n",
    "#x=x.reshape((23682, 128, 128,1))"
   ]
  },
  {
   "cell_type": "code",
   "execution_count": 133,
   "metadata": {},
   "outputs": [],
   "source": [
    "x=x.reshape((23682, 128, 128))"
   ]
  },
  {
   "cell_type": "code",
   "execution_count": 4,
   "metadata": {},
   "outputs": [
    {
     "data": {
      "text/plain": [
       "(23682, 128, 128)"
      ]
     },
     "execution_count": 4,
     "metadata": {},
     "output_type": "execute_result"
    }
   ],
   "source": [
    "#len(x)\n",
    "x.shape"
   ]
  },
  {
   "cell_type": "code",
   "execution_count": 134,
   "metadata": {},
   "outputs": [],
   "source": [
    "#np.save(\"data\",x)\n",
    "#np.save(\"labels\",y)"
   ]
  },
  {
   "cell_type": "code",
   "execution_count": 3,
   "metadata": {},
   "outputs": [],
   "source": [
    "x=np.load(\"data.npy\")\n",
    "y=np.load(\"labels.npy\")"
   ]
  },
  {
   "cell_type": "code",
   "execution_count": 5,
   "metadata": {},
   "outputs": [],
   "source": [
    "xtrain,xtest,ytrain,ytest= train_test_split(x,y,test_size=0.2,random_state=42)"
   ]
  },
  {
   "cell_type": "code",
   "execution_count": 6,
   "metadata": {},
   "outputs": [],
   "source": [
    "ytrain = keras.utils.to_categorical(ytrain, 10)\n",
    "ytest = keras.utils.to_categorical(ytest, 10)"
   ]
  },
  {
   "cell_type": "code",
   "execution_count": null,
   "metadata": {},
   "outputs": [],
   "source": []
  },
  {
   "cell_type": "code",
   "execution_count": 58,
   "metadata": {},
   "outputs": [],
   "source": [
    "def model(input_shape):\n",
    "   \n",
    "\n",
    "    X_input = Input(shape = input_shape)\n",
    "    X = Conv1D(64, kernel_size=8, strides=2)(X_input)                                \n",
    "    X = BatchNormalization()(X)                               \n",
    "    X = Activation('relu')(X)                                 \n",
    "    X = Dropout(0.6)(X)  \n",
    "    print(X.shape)\n",
    "    \n",
    "    X = Conv1D(32, kernel_size=6, strides=2)(X)                                 \n",
    "    X = BatchNormalization()(X)                                \n",
    "    X = Activation('relu')(X)                                 \n",
    "    X = Dropout(0.6)(X)  \n",
    "    print(X.shape)\n",
    "    \n",
    "    X = Conv1D(16, kernel_size=6, strides=2)(X)                                 \n",
    "    X = BatchNormalization()(X)                                 \n",
    "    X = Activation('relu')(X)                                \n",
    "    X = Dropout(0.6)(X)  \n",
    "   \n",
    "    print(X.shape) \n",
    "    \n",
    "    X = GRU(units = 20, return_sequences = True)(X)   \n",
    "    X = Dropout(0.8)(X)                                \n",
    "    X = BatchNormalization()(X)                                  \n",
    "    X = Dropout(0.6)(X)                                 \n",
    "    \n",
    "    print(X.shape)\n",
    "    X=Flatten ()(X)\n",
    "    X =Dense(10, activation = \"softmax\")(X)\n",
    "\n",
    "    model = Model(inputs = X_input, outputs = X)\n",
    "    \n",
    "    return model"
   ]
  },
  {
   "cell_type": "code",
   "execution_count": 59,
   "metadata": {},
   "outputs": [
    {
     "name": "stdout",
     "output_type": "stream",
     "text": [
      "(?, 61, 64)\n",
      "(?, 28, 32)\n",
      "(?, 12, 16)\n",
      "(?, ?, 10)\n"
     ]
    }
   ],
   "source": [
    "\n",
    "\n",
    "model=model(input_shape= (xtrain.shape[1:]))"
   ]
  },
  {
   "cell_type": "code",
   "execution_count": 60,
   "metadata": {},
   "outputs": [
    {
     "name": "stdout",
     "output_type": "stream",
     "text": [
      "_________________________________________________________________\n",
      "Layer (type)                 Output Shape              Param #   \n",
      "=================================================================\n",
      "input_14 (InputLayer)        (None, 128, 128)          0         \n",
      "_________________________________________________________________\n",
      "conv1d_31 (Conv1D)           (None, 61, 64)            65600     \n",
      "_________________________________________________________________\n",
      "batch_normalization_55 (Batc (None, 61, 64)            256       \n",
      "_________________________________________________________________\n",
      "activation_31 (Activation)   (None, 61, 64)            0         \n",
      "_________________________________________________________________\n",
      "dropout_67 (Dropout)         (None, 61, 64)            0         \n",
      "_________________________________________________________________\n",
      "conv1d_32 (Conv1D)           (None, 28, 32)            12320     \n",
      "_________________________________________________________________\n",
      "batch_normalization_56 (Batc (None, 28, 32)            128       \n",
      "_________________________________________________________________\n",
      "activation_32 (Activation)   (None, 28, 32)            0         \n",
      "_________________________________________________________________\n",
      "dropout_68 (Dropout)         (None, 28, 32)            0         \n",
      "_________________________________________________________________\n",
      "conv1d_33 (Conv1D)           (None, 12, 16)            3088      \n",
      "_________________________________________________________________\n",
      "batch_normalization_57 (Batc (None, 12, 16)            64        \n",
      "_________________________________________________________________\n",
      "activation_33 (Activation)   (None, 12, 16)            0         \n",
      "_________________________________________________________________\n",
      "dropout_69 (Dropout)         (None, 12, 16)            0         \n",
      "_________________________________________________________________\n",
      "gru_24 (GRU)                 (None, 12, 10)            810       \n",
      "_________________________________________________________________\n",
      "dropout_70 (Dropout)         (None, 12, 10)            0         \n",
      "_________________________________________________________________\n",
      "batch_normalization_58 (Batc (None, 12, 10)            40        \n",
      "_________________________________________________________________\n",
      "dropout_71 (Dropout)         (None, 12, 10)            0         \n",
      "_________________________________________________________________\n",
      "flatten_12 (Flatten)         (None, 120)               0         \n",
      "_________________________________________________________________\n",
      "dense_23 (Dense)             (None, 10)                1210      \n",
      "=================================================================\n",
      "Total params: 83,516\n",
      "Trainable params: 83,272\n",
      "Non-trainable params: 244\n",
      "_________________________________________________________________\n"
     ]
    }
   ],
   "source": [
    "model.summary()"
   ]
  },
  {
   "cell_type": "code",
   "execution_count": 61,
   "metadata": {},
   "outputs": [],
   "source": [
    "opt = Adam(lr=0.1, beta_1=0.9, beta_2=0.999, decay=0.001)\n",
    "model.compile(loss='binary_crossentropy', optimizer=opt, metrics=[\"accuracy\"])"
   ]
  },
  {
   "cell_type": "code",
   "execution_count": 62,
   "metadata": {},
   "outputs": [
    {
     "name": "stdout",
     "output_type": "stream",
     "text": [
      "Epoch 1/2\n",
      "18945/18945 [==============================] - 54s 3ms/step - loss: 0.3470 - acc: 0.8987\n",
      "Epoch 2/2\n",
      "18945/18945 [==============================] - 51s 3ms/step - loss: 0.3310 - acc: 0.9000\n"
     ]
    },
    {
     "data": {
      "text/plain": [
       "<keras.callbacks.History at 0x7fb3a6b752e8>"
      ]
     },
     "execution_count": 62,
     "metadata": {},
     "output_type": "execute_result"
    }
   ],
   "source": [
    "model.fit(xtrain, ytrain, batch_size = 5, epochs=2)"
   ]
  },
  {
   "cell_type": "code",
   "execution_count": 41,
   "metadata": {},
   "outputs": [],
   "source": [
    "model.save(\"abc\")"
   ]
  },
  {
   "cell_type": "code",
   "execution_count": 42,
   "metadata": {},
   "outputs": [
    {
     "name": "stdout",
     "output_type": "stream",
     "text": [
      "4737/4737 [==============================] - 3s 572us/step\n"
     ]
    },
    {
     "data": {
      "text/plain": [
       "[0.3253565415038523, 0.900000035750204]"
      ]
     },
     "execution_count": 42,
     "metadata": {},
     "output_type": "execute_result"
    }
   ],
   "source": [
    "model.evaluate(xtest,ytest)"
   ]
  },
  {
   "cell_type": "code",
   "execution_count": null,
   "metadata": {},
   "outputs": [],
   "source": []
  }
 ],
 "metadata": {
  "kernelspec": {
   "display_name": "Python 3",
   "language": "python",
   "name": "python3"
  },
  "language_info": {
   "codemirror_mode": {
    "name": "ipython",
    "version": 3
   },
   "file_extension": ".py",
   "mimetype": "text/x-python",
   "name": "python",
   "nbconvert_exporter": "python",
   "pygments_lexer": "ipython3",
   "version": "3.6.5"
  }
 },
 "nbformat": 4,
 "nbformat_minor": 2
}
